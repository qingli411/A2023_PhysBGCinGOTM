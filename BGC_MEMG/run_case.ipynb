{
 "cells": [
  {
   "cell_type": "code",
   "execution_count": null,
   "id": "a59e6aa6-8476-41a3-b6d2-b9589095fabb",
   "metadata": {},
   "outputs": [],
   "source": [
    "import sys\n",
    "import copy\n",
    "import matplotlib.pyplot as plt\n",
    "sys.path.append(\"../gotmtool\")\n",
    "from gotmtool import *"
   ]
  },
  {
   "cell_type": "markdown",
   "id": "d9bd0786-ba70-4794-b54b-a5f54d7ecd83",
   "metadata": {},
   "source": [
    "## Create a model"
   ]
  },
  {
   "cell_type": "code",
   "execution_count": null,
   "id": "d2c07f31-95f7-4cd7-9e52-9d19f739ba27",
   "metadata": {},
   "outputs": [],
   "source": [
    "m = Model(name='BGC_MEMG', environ='../gotmtool/.gotm_env.yaml')"
   ]
  },
  {
   "cell_type": "code",
   "execution_count": null,
   "id": "32349830-a1bb-4d05-a5b3-8bc665875b78",
   "metadata": {},
   "outputs": [],
   "source": [
    "for key in m.environ:\n",
    "    print('{:>15s}: {}'.format(key, m.environ[key]) )"
   ]
  },
  {
   "cell_type": "markdown",
   "id": "427fe9e3-dfe4-449b-b9ec-0f229d56de0e",
   "metadata": {},
   "source": [
    "## Build the model"
   ]
  },
  {
   "cell_type": "code",
   "execution_count": null,
   "id": "7545ace5-8d5e-48ff-a728-4c5f4434fd56",
   "metadata": {},
   "outputs": [],
   "source": [
    "%%time\n",
    "m.build(use_fabm=True)"
   ]
  },
  {
   "cell_type": "markdown",
   "id": "ee12eeca-72fa-4702-bb14-8d6cbf0c566e",
   "metadata": {},
   "source": [
    "## Configuration\n",
    "Initialize the GOTM configuration from a yaml file"
   ]
  },
  {
   "cell_type": "code",
   "execution_count": null,
   "id": "db4dfca7-6f04-4718-9f82-0ba8b8da1086",
   "metadata": {},
   "outputs": [],
   "source": [
    "cfg = config_load('gotm.yaml')"
   ]
  },
  {
   "cell_type": "markdown",
   "id": "49e0d58d-3e47-4bbb-9165-26995ff54f40",
   "metadata": {},
   "source": [
    "Modify the path for input files"
   ]
  },
  {
   "cell_type": "code",
   "execution_count": null,
   "id": "331beb96-7f61-4164-9037-0b7a551a5baa",
   "metadata": {},
   "outputs": [],
   "source": [
    "datadir = os.path.join(os.getcwd(), 'forcing')\n",
    "\n",
    "profile_data = {\n",
    "    'temperature': 'TEMP_profiles.dat',\n",
    "    'salinity':    'PSAL_profiles.dat',\n",
    "}\n",
    "\n",
    "surface_data = {\n",
    "    'u10':    'Uwind.dat',\n",
    "    'v10':    'Vwind.dat',\n",
    "    'airp':   'Pair.dat',\n",
    "    'airt':   'Tair.dat',\n",
    "    'hum':    'Qair.dat',\n",
    "    'cloud':  'cloud.dat',\n",
    "    'precip': 'rain.dat',\n",
    "    'swr':    'swrad.dat',\n",
    "    'longwave_radiation': 'lwrad.dat',\n",
    "    }\n",
    "\n",
    "fabm_profile_data = {\n",
    "    '2p2z_no3':     'NITRATE_profiles.dat',\n",
    "    '2p2z_phyS':    'Phyt_profiles.dat',\n",
    "    '2p2z_chlS':    'CHLA_profiles.dat',\n",
    "    '2p2z_LDeN':    'largePOC_profiles.dat',\n",
    "    '2p2z_pre_no3': 'NITRATE_profiles.dat',\n",
    "    }\n",
    "\n",
    "cfg['version'] = 6\n",
    "for key in profile_data:\n",
    "    cfg[key]['method'] = 'file'\n",
    "    cfg[key]['file'] = os.path.join(datadir, profile_data[key])\n",
    "    \n",
    "for key in surface_data:\n",
    "    cfg['surface'][key]['method'] = 'file'\n",
    "    cfg['surface'][key]['file'] = os.path.join(datadir, surface_data[key])\n",
    "\n",
    "for key in fabm_profile_data:\n",
    "    cfg['fabm']['input'][key]['method'] = 'file'\n",
    "    cfg['fabm']['input'][key]['file'] = os.path.join(datadir, fabm_profile_data[key])"
   ]
  },
  {
   "cell_type": "markdown",
   "id": "c58bebc3-b4d0-4c04-850d-980105d2a9f7",
   "metadata": {},
   "source": [
    "Initialize FABM configuration from a yaml file"
   ]
  },
  {
   "cell_type": "code",
   "execution_count": null,
   "id": "c9b1bfbd-25ac-40cc-8b0e-6fa538a3ad55",
   "metadata": {},
   "outputs": [],
   "source": [
    "cfg_fabm = config_load('fabm.yaml')"
   ]
  },
  {
   "cell_type": "markdown",
   "id": "4b004d60-a15a-4672-8fe3-bc2655763a34",
   "metadata": {},
   "source": [
    "## Run the model"
   ]
  },
  {
   "cell_type": "code",
   "execution_count": null,
   "id": "036adc2e-4065-4152-9897-9228fbad0f3d",
   "metadata": {},
   "outputs": [],
   "source": [
    "%%time\n",
    "sim = m.run(config=cfg, label='test01', config_fabm=cfg_fabm)"
   ]
  },
  {
   "cell_type": "markdown",
   "id": "d8f5c1ca-1836-4a5a-a3b2-6037ea9a1b01",
   "metadata": {},
   "source": [
    "## Take a look at the results\n",
    "\n",
    "We can quickly take a look at the simulation results from the returned `Simulation` object."
   ]
  },
  {
   "cell_type": "code",
   "execution_count": null,
   "id": "c2d8652a-72e0-4527-9726-02c0cc5571cb",
   "metadata": {},
   "outputs": [],
   "source": [
    "ds = sim.load_data()\n",
    "ds"
   ]
  },
  {
   "cell_type": "code",
   "execution_count": null,
   "id": "66d2fbfd-0a05-44ce-8c63-06d94315549b",
   "metadata": {},
   "outputs": [],
   "source": [
    "varnames = ['temp', 'salt', '2p2z_phyS', '2p2z_zooS']\n",
    "nv = len(varnames)\n",
    "fig, axarr = plt.subplots(nv, sharex='col')\n",
    "fig.set_size_inches([10, 12])\n",
    "for i, varname in enumerate(varnames):\n",
    "    ds.data_vars[varname].plot(ax=axarr[i])\n",
    "    axarr[i].set_title('')\n",
    "    axarr[i].set_xlabel('')\n",
    "    axarr[i].set_ylim([-1000, 0])"
   ]
  },
  {
   "cell_type": "markdown",
   "id": "6f9db467-6f5d-4995-90c6-3cb2d84daf2e",
   "metadata": {},
   "source": [
    "## Run the model with different turbulence closure methods in a batch\n",
    "\n",
    "We can also run a set of simulations with slightly different configurations (either different `gotm.yaml` or different `fabm.yaml` but not both) in a batch, which can take advantage of multiple processors on the server. Here we domenstrate this by running this case using three turbulence closure schemes:\n",
    "- The $k$-$\\epsilon$ model with the [Schumann and Gerz (1995)](https://doi.org/10.1175/1520-0450-34.1.33) stability function, the one used in [Wang and Fennel, 2023](https://doi.org/10.1029/2022GL101220).\n",
    "- The generic length scale (GLS; [Umlauf and Burchard, 2003](https://doi.org/10.1357/002224003322005087)) model in the $k$-$\\epsilon$ formulation with the weak-equilibrium stability function by [Canuto et al., 2001](https://doi.org/10.1175/1520-0485(2001)031%3C1413:OTPIOP%3E2.0.CO;2) (C01A).\n",
    "- The K-profile parameterization (KPP; [Large et al., 1994](https://doi.org/10.1029/94RG01872), [Griffies et al., 2015](https://github.com/CVMix/CVMix-description/raw/master/cvmix.pdf)) with [CVMix](http://cvmix.github.io)."
   ]
  },
  {
   "cell_type": "code",
   "execution_count": null,
   "id": "f8165767-0281-4e07-82b7-29fdffb6622b",
   "metadata": {},
   "outputs": [],
   "source": [
    "# collect the configurations and the labels of the three runs\n",
    "cfgs = []\n",
    "labels = []"
   ]
  },
  {
   "cell_type": "code",
   "execution_count": null,
   "id": "43352943-6d14-42c3-be2d-72cee065f956",
   "metadata": {},
   "outputs": [],
   "source": [
    "cfgs.append(copy.deepcopy(cfg))\n",
    "labels.append('keps-SG95')"
   ]
  },
  {
   "cell_type": "code",
   "execution_count": null,
   "id": "756072b7-d12d-46af-abca-8b6e8ea09d73",
   "metadata": {},
   "outputs": [],
   "source": [
    "cfg['turbulence']['turb_method'] = 'second_order'\n",
    "cfg['turbulence']['tke_method'] = 'tke'\n",
    "cfg['turbulence']['len_scale_method'] = 'gls'\n",
    "cfg['turbulence']['scnd']['method'] =  'weak_eq_kb_eq'\n",
    "cfg['turbulence']['scnd']['scnd_coeff'] =  'canuto-a'\n",
    "cfg['turbulence']['turb_param']['length_lim'] = 'false'\n",
    "cfg['turbulence']['turb_param']['compute_c3'] = 'true'\n",
    "cfg['turbulence']['turb_param']['Ri_st'] = 0.25\n",
    "cfg['turbulence']['generic']['gen_m'] = 1.5 \n",
    "cfg['turbulence']['generic']['gen_n'] = -1.0\n",
    "cfg['turbulence']['generic']['gen_p'] = 3.0 \n",
    "cfg['turbulence']['generic']['cpsi1'] = 1.44\n",
    "cfg['turbulence']['generic']['cpsi2'] = 1.92\n",
    "cfg['turbulence']['generic']['cpsi3minus'] = -0.63\n",
    "cfg['turbulence']['generic']['cpsi3plus'] = 1.0 \n",
    "cfg['turbulence']['generic']['sig_kpsi'] = 1.0 \n",
    "cfg['turbulence']['generic']['sig_psi'] = 1.3\n",
    "cfgs.append(copy.deepcopy(cfg))\n",
    "labels.append('GLS-C01A')"
   ]
  },
  {
   "cell_type": "code",
   "execution_count": null,
   "id": "d43c2c77-334d-42c7-af94-cf171e93134d",
   "metadata": {},
   "outputs": [],
   "source": [
    "cfg['turbulence']['turb_method'] = 'cvmix'\n",
    "cfg['cvmix']['surface_layer']['kpp']['langmuir_method'] = 'none'\n",
    "cfgs.append(copy.deepcopy(cfg))\n",
    "labels.append('KPP-CVMix')"
   ]
  },
  {
   "cell_type": "markdown",
   "id": "1dd2d3d5-2a0b-4a57-9b60-f7672f881b18",
   "metadata": {},
   "source": [
    "Run the three runs with the same `fabm.yaml` using 3 processers. "
   ]
  },
  {
   "cell_type": "code",
   "execution_count": null,
   "id": "fedc61e5-6e86-4877-9f8d-f74ed3c88166",
   "metadata": {},
   "outputs": [],
   "source": [
    "%%time\n",
    "sims = m.run_batch(configs=cfgs, labels=labels, configs_fabm=[cfg_fabm], nproc=3)"
   ]
  },
  {
   "cell_type": "markdown",
   "id": "b67a47ea-6fa6-4b15-b9e0-3ce2c16c0ded",
   "metadata": {},
   "source": [
    "This returns a list of `Simulation` objects."
   ]
  },
  {
   "cell_type": "code",
   "execution_count": null,
   "id": "4e765799-668a-4991-9d96-9f059a063467",
   "metadata": {},
   "outputs": [],
   "source": [
    "sims"
   ]
  },
  {
   "cell_type": "code",
   "execution_count": null,
   "id": "63d2ff83-e4b3-4f01-adbe-8434f1b1e4d6",
   "metadata": {},
   "outputs": [],
   "source": []
  }
 ],
 "metadata": {
  "kernelspec": {
   "display_name": "Python 3",
   "language": "python",
   "name": "python3"
  },
  "language_info": {
   "codemirror_mode": {
    "name": "ipython",
    "version": 3
   },
   "file_extension": ".py",
   "mimetype": "text/x-python",
   "name": "python",
   "nbconvert_exporter": "python",
   "pygments_lexer": "ipython3",
   "version": "3.9.15"
  }
 },
 "nbformat": 4,
 "nbformat_minor": 5
}
