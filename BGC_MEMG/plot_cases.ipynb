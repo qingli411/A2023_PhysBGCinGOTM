{
 "cells": [
  {
   "cell_type": "markdown",
   "id": "cc967101-b369-4a33-9ec7-5e1ae798737d",
   "metadata": {},
   "source": [
    "## Visualizing the restuls from output files\n",
    "\n",
    "This notebook is an example of loading GOTM output into a `Simulation` object and visualizing the results."
   ]
  },
  {
   "cell_type": "code",
   "execution_count": null,
   "id": "4438e681-fe84-43a2-ab5b-50a7bcc0a312",
   "metadata": {},
   "outputs": [],
   "source": [
    "import sys\n",
    "import matplotlib.pyplot as plt\n",
    "sys.path.append(\"../gotmtool\")\n",
    "from gotmtool import *"
   ]
  },
  {
   "cell_type": "code",
   "execution_count": null,
   "id": "65ab71a1-6a34-4687-99ba-70bc6a6c4586",
   "metadata": {},
   "outputs": [],
   "source": [
    "m = Model(name='BGC_MEMG', environ='../gotmtool/.gotm_env.yaml')"
   ]
  },
  {
   "cell_type": "code",
   "execution_count": null,
   "id": "947152a3-da25-4186-8f64-f1703cf29386",
   "metadata": {},
   "outputs": [],
   "source": [
    "for key in m.environ:\n",
    "    print('{:>15s}: {}'.format(key, m.environ[key]) )"
   ]
  },
  {
   "cell_type": "code",
   "execution_count": null,
   "id": "07bfa8ac-79f2-4c3f-aad4-135df3a3f722",
   "metadata": {},
   "outputs": [],
   "source": [
    "casenames = [\n",
    "    'keps-SG95',\n",
    "    'GLS-C01A',\n",
    "    'KPP-CVMix',\n",
    "    ]"
   ]
  },
  {
   "cell_type": "code",
   "execution_count": null,
   "id": "73cd096a-a531-46f6-88f2-36b1939da237",
   "metadata": {},
   "outputs": [],
   "source": [
    "sims = {}\n",
    "for casename in casenames:\n",
    "    run_dir = os.path.join(m.environ['gotmdir_run'], m.name, casename)\n",
    "    sim = Simulation(path=run_dir, dataname = 'output.nc')\n",
    "    sims[casename] = sim"
   ]
  },
  {
   "cell_type": "code",
   "execution_count": null,
   "id": "b814e5ff-4d20-4bf1-801a-599f735dc358",
   "metadata": {},
   "outputs": [],
   "source": [
    "def plot_var(sim, varnames, tag):\n",
    "    ds = sim.load_data()\n",
    "    nv = len(varnames)\n",
    "    fig, axarr = plt.subplots(nv, sharex='col')\n",
    "    fig.set_size_inches([10, 2+3*nv])\n",
    "    for i, varname in enumerate(varnames):\n",
    "        ds.data_vars[varname].plot(ax=axarr[i])\n",
    "        axarr[i].set_title('')\n",
    "        axarr[i].set_xlabel('')\n",
    "        axarr[i].set_ylim([-1000, 0])\n",
    "    axarr[0].set_title(tag)    \n",
    "    "
   ]
  },
  {
   "cell_type": "code",
   "execution_count": null,
   "id": "1080c644-1f7f-4b34-b913-d00399568783",
   "metadata": {},
   "outputs": [],
   "source": [
    "varnames = ['temp', 'salt', '2p2z_phyS', '2p2z_zooS']\n",
    "for key in sims:\n",
    "    plot_var(sims[key], varnames, key)"
   ]
  },
  {
   "cell_type": "code",
   "execution_count": null,
   "id": "63d65370-1759-4e5c-9442-6b7ac69bde8a",
   "metadata": {},
   "outputs": [],
   "source": []
  }
 ],
 "metadata": {
  "kernelspec": {
   "display_name": "GOTM",
   "language": "python",
   "name": "gotm"
  },
  "language_info": {
   "codemirror_mode": {
    "name": "ipython",
    "version": 3
   },
   "file_extension": ".py",
   "mimetype": "text/x-python",
   "name": "python",
   "nbconvert_exporter": "python",
   "pygments_lexer": "ipython3",
   "version": "3.9.16"
  }
 },
 "nbformat": 4,
 "nbformat_minor": 5
}
