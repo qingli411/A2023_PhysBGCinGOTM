{
 "cells": [
  {
   "cell_type": "markdown",
   "id": "83159433-52f8-4426-80ce-57737d4926d1",
   "metadata": {},
   "source": [
    "# Install the MEMG BGC model to GOTM-FABM\n",
    "\n",
    "This notebook installs the MEMG BGC model to the GOTM-FABM framework following the instructions in the Github repository [gotm-fabm-memg-biogeochemical-model](https://github.com/bwang63/gotm-fabm-memg-biogeochemical-model). "
   ]
  },
  {
   "cell_type": "code",
   "execution_count": null,
   "id": "1fa1fa9f-33a2-46c1-a0ea-25825807a0df",
   "metadata": {},
   "outputs": [],
   "source": [
    "import sys\n",
    "import os\n",
    "import subprocess as sp\n",
    "sys.path.append(\"../gotmtool\")\n",
    "from gotmtool import *"
   ]
  },
  {
   "cell_type": "markdown",
   "id": "0b680ebd-f899-4fb6-89de-4a043d0ee051",
   "metadata": {},
   "source": [
    "### Create a model and get the environment variables for GOTM"
   ]
  },
  {
   "cell_type": "code",
   "execution_count": null,
   "id": "69318208-73ce-4fed-a813-349cd6ca4630",
   "metadata": {},
   "outputs": [],
   "source": [
    "m = Model(name='BGC_MEMG', environ='../gotmtool/.gotm_env.yaml')"
   ]
  },
  {
   "cell_type": "code",
   "execution_count": null,
   "id": "39a10d06-83ae-4538-a5a6-8b2b9eb61440",
   "metadata": {},
   "outputs": [],
   "source": [
    "for key in m.environ:\n",
    "    print('{:>15s}: {}'.format(key, m.environ[key]) )"
   ]
  },
  {
   "cell_type": "markdown",
   "id": "1dcd7a45-2a1d-4fdf-868d-c1a9767b8626",
   "metadata": {},
   "source": [
    "### Clone the MEMG BGC source code from Github"
   ]
  },
  {
   "cell_type": "code",
   "execution_count": null,
   "id": "1bc2b2e6-74f8-4db0-be50-b8f3b4d3eba4",
   "metadata": {},
   "outputs": [],
   "source": [
    "memg_github = 'https://github.com/bwang63/gotm-fabm-memg-biogeochemical-model.git'\n",
    "fabm_src = os.path.join(m.environ['gotmdir_code'], 'extern', 'fabm', 'src')\n",
    "memg_path = os.path.join(fabm_src, 'models', 'memg')\n",
    "cmd = ['git', 'clone', memg_github, memg_path]\n",
    "sp.run(cmd, check=True, capture_output=True)"
   ]
  },
  {
   "cell_type": "markdown",
   "id": "15d25087-cee4-4b76-887a-5a43f524173d",
   "metadata": {},
   "source": [
    "Modify the cmake file"
   ]
  },
  {
   "cell_type": "code",
   "execution_count": null,
   "id": "4451f02a-38c8-4031-acdd-86c633cf1133",
   "metadata": {},
   "outputs": [],
   "source": [
    "memg_cmake = '\\ \\ \\ \\ memg         # Marine Environmental Modelling Group, Dalhousie University, Canada'\n",
    "insert_before = '    niva         # Norwegian Institute for Water Research, Norway'\n",
    "cmakelist = os.path.join(fabm_src, 'CMakeLists.txt')\n",
    "sed_cmd = '/{:s}/i {:s}'.format(insert_before, memg_cmake)\n",
    "cmd = ['sed', '-i', sed_cmd, cmakelist]\n",
    "sp.run(cmd, check=True, capture_output=True)"
   ]
  },
  {
   "cell_type": "code",
   "execution_count": null,
   "id": "a40a2533-7acf-47a4-bbe2-0de45d86cbd4",
   "metadata": {},
   "outputs": [],
   "source": []
  }
 ],
 "metadata": {
  "kernelspec": {
   "display_name": "GOTM",
   "language": "python",
   "name": "gotm"
  },
  "language_info": {
   "codemirror_mode": {
    "name": "ipython",
    "version": 3
   },
   "file_extension": ".py",
   "mimetype": "text/x-python",
   "name": "python",
   "nbconvert_exporter": "python",
   "pygments_lexer": "ipython3",
   "version": "3.9.16"
  }
 },
 "nbformat": 4,
 "nbformat_minor": 5
}
